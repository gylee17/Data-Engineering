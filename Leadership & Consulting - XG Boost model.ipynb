{
 "cells": [
  {
   "cell_type": "code",
   "execution_count": null,
   "id": "a4d2e437-4956-4366-b438-9f3642a7e6e4",
   "metadata": {},
   "outputs": [],
   "source": [
    "## import libraries\n",
    "import pandas as pd\n",
    "from sklearn.model_selection import train_test_split\n",
    "from xgboost import XGBClassifier\n",
    "from sklearn.metrics import accuracy_score, precision_score, recall_score, roc_auc_score, classification_report\n",
    "from sklearn.preprocessing import LabelEncoder"
   ]
  },
  {
   "cell_type": "code",
   "execution_count": null,
   "id": "68afdd77-53ed-4d7a-8e2d-7405335c6881",
   "metadata": {},
   "outputs": [],
   "source": [
    "# Load the data\n",
    "data_path = '/mnt/data/Verizon Data-1 (1).csv'\n",
    "verizon_data = pd.read_csv(data_path)"
   ]
  },
  {
   "cell_type": "code",
   "execution_count": null,
   "id": "969c2547-5d60-4ca7-b525-6d4ff8414593",
   "metadata": {},
   "outputs": [],
   "source": [
    "# Step 1: Preprocess the data\n",
    "# Fill missing values\n",
    "verizon_data.fillna(verizon_data.median(), inplace=True)\n",
    "\n",
    "# Encode categorical variables (e.g., gender and pmttype)\n",
    "label_encoder = LabelEncoder()\n",
    "verizon_data['gender'] = label_encoder.fit_transform(verizon_data['gender'])\n",
    "verizon_data['pmttype'] = label_encoder.fit_transform(verizon_data['pmttype'])\n",
    "\n",
    "# Define features and target variable\n",
    "X = verizon_data.drop(columns=['default'])\n",
    "y = verizon_data['default']"
   ]
  },
  {
   "cell_type": "code",
   "execution_count": null,
   "id": "e3ddbaf5-26dd-4a94-b778-f7f50077c2d8",
   "metadata": {},
   "outputs": [],
   "source": [
    "# Step 2: Split the data into training and testing sets\n",
    "X_train, X_test, y_train, y_test = train_test_split(X, y, test_size=0.3, random_state=42)\n"
   ]
  },
  {
   "cell_type": "code",
   "execution_count": null,
   "id": "1caea5df-9a8f-4182-bd97-7e6bf1ce4761",
   "metadata": {},
   "outputs": [],
   "source": [
    "# Step 3: Train the XGBoost model\n",
    "xgb_model = XGBClassifier(n_estimators=100, learning_rate=0.1, max_depth=3, random_state=42)\n",
    "xgb_model.fit(X_train, y_train)"
   ]
  },
  {
   "cell_type": "code",
   "execution_count": null,
   "id": "a456dc50-7b8c-49a0-956e-351ec8793b8f",
   "metadata": {},
   "outputs": [],
   "source": [
    "# Step 4: Evaluate the model\n",
    "y_pred = xgb_model.predict(X_test)\n",
    "y_proba = xgb_model.predict_proba(X_test)[:, 1]  # Probability of the positive class\n",
    "\n",
    "# Performance metrics\n",
    "accuracy = accuracy_score(y_test, y_pred)\n",
    "precision = precision_score(y_test, y_pred)\n",
    "recall = recall_score(y_test, y_pred)\n",
    "roc_auc = roc_auc_score(y_test, y_proba)\n",
    "\n",
    "# Print results\n",
    "print(f\"Accuracy: {accuracy:.2f}\")\n",
    "print(f\"Precision: {precision:.2f}\")\n",
    "print(f\"Recall: {recall:.2f}\")\n",
    "print(f\"ROC-AUC: {roc_auc:.2f}\")\n",
    "print(\"\\nClassification Report:\")\n",
    "print(classification_report(y_test, y_pred))\n"
   ]
  },
  {
   "cell_type": "code",
   "execution_count": null,
   "id": "e606aaad-da90-4a3e-947b-c9dfe1016132",
   "metadata": {},
   "outputs": [],
   "source": []
  }
 ],
 "metadata": {
  "kernelspec": {
   "display_name": "Python 3 (ipykernel)",
   "language": "python",
   "name": "python3"
  },
  "language_info": {
   "codemirror_mode": {
    "name": "ipython",
    "version": 3
   },
   "file_extension": ".py",
   "mimetype": "text/x-python",
   "name": "python",
   "nbconvert_exporter": "python",
   "pygments_lexer": "ipython3",
   "version": "3.12.4"
  }
 },
 "nbformat": 4,
 "nbformat_minor": 5
}
